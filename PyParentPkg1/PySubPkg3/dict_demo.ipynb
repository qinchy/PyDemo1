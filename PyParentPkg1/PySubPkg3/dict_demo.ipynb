{
 "cells": [
  {
   "cell_type": "code",
   "execution_count": 1,
   "id": "4e6905a3",
   "metadata": {},
   "outputs": [],
   "source": [
    "d = {\n",
    "    \"a\":\"b\",\n",
    "    \"c\":\"d\",\n",
    "    \"e\":{\"f\":\"g\"}\n",
    "}"
   ]
  },
  {
   "cell_type": "code",
   "execution_count": 2,
   "id": "dd32cfd6",
   "metadata": {},
   "outputs": [
    {
     "data": {
      "text/plain": [
       "{'a': 'b', 'c': 'd', 'e': {'f': 'g'}}"
      ]
     },
     "execution_count": 2,
     "metadata": {},
     "output_type": "execute_result"
    }
   ],
   "source": [
    "d"
   ]
  },
  {
   "cell_type": "code",
   "execution_count": 5,
   "id": "b9f58a18",
   "metadata": {},
   "outputs": [],
   "source": [
    "m = {\"h\":{\"a\":\"b\",\"c\":\"d\"}}"
   ]
  },
  {
   "cell_type": "code",
   "execution_count": 6,
   "id": "cda0023b",
   "metadata": {},
   "outputs": [],
   "source": [
    "d.update(m)"
   ]
  },
  {
   "cell_type": "code",
   "execution_count": 7,
   "id": "47164dfc",
   "metadata": {},
   "outputs": [
    {
     "data": {
      "text/plain": [
       "{'a': 'b', 'c': 'd', 'e': {'f': 'g'}, 'h': {'a': 'b', 'c': 'd'}}"
      ]
     },
     "execution_count": 7,
     "metadata": {},
     "output_type": "execute_result"
    }
   ],
   "source": [
    "d"
   ]
  },
  {
   "cell_type": "code",
   "execution_count": null,
   "id": "07f26099",
   "metadata": {},
   "outputs": [],
   "source": []
  }
 ],
 "metadata": {
  "kernelspec": {
   "display_name": "Python 3 (ipykernel)",
   "language": "python",
   "name": "python3"
  },
  "language_info": {
   "codemirror_mode": {
    "name": "ipython",
    "version": 3
   },
   "file_extension": ".py",
   "mimetype": "text/x-python",
   "name": "python",
   "nbconvert_exporter": "python",
   "pygments_lexer": "ipython3",
   "version": "3.9.13"
  }
 },
 "nbformat": 4,
 "nbformat_minor": 5
}
